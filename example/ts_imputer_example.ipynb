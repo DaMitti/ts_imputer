{
 "cells": [
  {
   "cell_type": "markdown",
   "source": [
    "# Example Usage of the TimeSeriesImputer class"
   ],
   "metadata": {
    "collapsed": false
   }
  },
  {
   "cell_type": "markdown",
   "source": [
    "Prepare the environment"
   ],
   "metadata": {
    "collapsed": false
   }
  },
  {
   "cell_type": "code",
   "execution_count": 2,
   "outputs": [],
   "source": [
    "import pandas as pd\n",
    "# load the class\n",
    "from ts_imputer import TimeSeriesImputer"
   ],
   "metadata": {
    "collapsed": false,
    "ExecuteTime": {
     "end_time": "2023-11-09T15:43:32.152651500Z",
     "start_time": "2023-11-09T15:43:32.148594Z"
    }
   }
  },
  {
   "cell_type": "markdown",
   "source": [
    "Let's read some time series data like freedom house scores. After a bit of preprocessing we get yearly country data."
   ],
   "metadata": {
    "collapsed": false
   }
  },
  {
   "cell_type": "code",
   "execution_count": 3,
   "outputs": [
    {
     "data": {
      "text/plain": "       country  year  fh_political_rights_rating  fh_civil_liberties_rating  \\\n3343  Abkhazia  2005                           5                          5   \n3136  Abkhazia  2006                           5                          5   \n2929  Abkhazia  2007                           5                          5   \n2720  Abkhazia  2008                           5                          5   \n2512  Abkhazia  2009                           5                          5   \n...        ...   ...                         ...                        ...   \n1047  Zimbabwe  2017                           6                          5   \n838   Zimbabwe  2018                           5                          5   \n629   Zimbabwe  2019                           5                          5   \n419   Zimbabwe  2020                           6                          5   \n209   Zimbabwe  2021                           6                          5   \n\n      fh_electoral_process  fh_pol_pluralism_participation  \\\n3343                     5                               5   \n3136                     5                               5   \n2929                     5                               6   \n2720                     5                               5   \n2512                     5                               5   \n...                    ...                             ...   \n1047                     2                               6   \n838                      3                               6   \n629                      3                               6   \n419                      3                               5   \n209                      3                               5   \n\n      fh_gov_functioning  fh_political_rights_score  fh_freedom_expression  \\\n3343                   3                         13                      8   \n3136                   3                         13                      8   \n2929                   4                         15                      8   \n2720                   4                         14                      8   \n2512                   4                         14                      7   \n...                  ...                        ...                    ...   \n1047                   2                         10                      8   \n838                    3                         12                      8   \n629                    3                         12                      7   \n419                    3                         11                      7   \n209                    3                         11                      7   \n\n      fh_assoc_org_rights  fh_rule_of_law  fh_individual_rights  \\\n3343                    4               4                     5   \n3136                    4               4                     5   \n2929                    4               4                     5   \n2720                    4               4                     5   \n2512                    5               4                     5   \n...                   ...             ...                   ...   \n1047                    4               3                     5   \n838                     4               2                     5   \n629                     3               2                     5   \n419                     3               2                     5   \n209                     3               2                     5   \n\n      fh_civil_liberties_score  fh_score       time  \n3343                        21        34 2005-12-31  \n3136                        21        34 2006-12-31  \n2929                        21        36 2007-12-31  \n2720                        21        35 2008-12-31  \n2512                        21        35 2009-12-31  \n...                        ...       ...        ...  \n1047                        20        30 2017-12-31  \n838                         19        31 2018-12-31  \n629                         17        29 2019-12-31  \n419                         17        28 2020-12-31  \n209                         17        28 2021-12-31  \n\n[3549 rows x 15 columns]",
      "text/html": "<div>\n<style scoped>\n    .dataframe tbody tr th:only-of-type {\n        vertical-align: middle;\n    }\n\n    .dataframe tbody tr th {\n        vertical-align: top;\n    }\n\n    .dataframe thead th {\n        text-align: right;\n    }\n</style>\n<table border=\"1\" class=\"dataframe\">\n  <thead>\n    <tr style=\"text-align: right;\">\n      <th></th>\n      <th>country</th>\n      <th>year</th>\n      <th>fh_political_rights_rating</th>\n      <th>fh_civil_liberties_rating</th>\n      <th>fh_electoral_process</th>\n      <th>fh_pol_pluralism_participation</th>\n      <th>fh_gov_functioning</th>\n      <th>fh_political_rights_score</th>\n      <th>fh_freedom_expression</th>\n      <th>fh_assoc_org_rights</th>\n      <th>fh_rule_of_law</th>\n      <th>fh_individual_rights</th>\n      <th>fh_civil_liberties_score</th>\n      <th>fh_score</th>\n      <th>time</th>\n    </tr>\n  </thead>\n  <tbody>\n    <tr>\n      <th>3343</th>\n      <td>Abkhazia</td>\n      <td>2005</td>\n      <td>5</td>\n      <td>5</td>\n      <td>5</td>\n      <td>5</td>\n      <td>3</td>\n      <td>13</td>\n      <td>8</td>\n      <td>4</td>\n      <td>4</td>\n      <td>5</td>\n      <td>21</td>\n      <td>34</td>\n      <td>2005-12-31</td>\n    </tr>\n    <tr>\n      <th>3136</th>\n      <td>Abkhazia</td>\n      <td>2006</td>\n      <td>5</td>\n      <td>5</td>\n      <td>5</td>\n      <td>5</td>\n      <td>3</td>\n      <td>13</td>\n      <td>8</td>\n      <td>4</td>\n      <td>4</td>\n      <td>5</td>\n      <td>21</td>\n      <td>34</td>\n      <td>2006-12-31</td>\n    </tr>\n    <tr>\n      <th>2929</th>\n      <td>Abkhazia</td>\n      <td>2007</td>\n      <td>5</td>\n      <td>5</td>\n      <td>5</td>\n      <td>6</td>\n      <td>4</td>\n      <td>15</td>\n      <td>8</td>\n      <td>4</td>\n      <td>4</td>\n      <td>5</td>\n      <td>21</td>\n      <td>36</td>\n      <td>2007-12-31</td>\n    </tr>\n    <tr>\n      <th>2720</th>\n      <td>Abkhazia</td>\n      <td>2008</td>\n      <td>5</td>\n      <td>5</td>\n      <td>5</td>\n      <td>5</td>\n      <td>4</td>\n      <td>14</td>\n      <td>8</td>\n      <td>4</td>\n      <td>4</td>\n      <td>5</td>\n      <td>21</td>\n      <td>35</td>\n      <td>2008-12-31</td>\n    </tr>\n    <tr>\n      <th>2512</th>\n      <td>Abkhazia</td>\n      <td>2009</td>\n      <td>5</td>\n      <td>5</td>\n      <td>5</td>\n      <td>5</td>\n      <td>4</td>\n      <td>14</td>\n      <td>7</td>\n      <td>5</td>\n      <td>4</td>\n      <td>5</td>\n      <td>21</td>\n      <td>35</td>\n      <td>2009-12-31</td>\n    </tr>\n    <tr>\n      <th>...</th>\n      <td>...</td>\n      <td>...</td>\n      <td>...</td>\n      <td>...</td>\n      <td>...</td>\n      <td>...</td>\n      <td>...</td>\n      <td>...</td>\n      <td>...</td>\n      <td>...</td>\n      <td>...</td>\n      <td>...</td>\n      <td>...</td>\n      <td>...</td>\n      <td>...</td>\n    </tr>\n    <tr>\n      <th>1047</th>\n      <td>Zimbabwe</td>\n      <td>2017</td>\n      <td>6</td>\n      <td>5</td>\n      <td>2</td>\n      <td>6</td>\n      <td>2</td>\n      <td>10</td>\n      <td>8</td>\n      <td>4</td>\n      <td>3</td>\n      <td>5</td>\n      <td>20</td>\n      <td>30</td>\n      <td>2017-12-31</td>\n    </tr>\n    <tr>\n      <th>838</th>\n      <td>Zimbabwe</td>\n      <td>2018</td>\n      <td>5</td>\n      <td>5</td>\n      <td>3</td>\n      <td>6</td>\n      <td>3</td>\n      <td>12</td>\n      <td>8</td>\n      <td>4</td>\n      <td>2</td>\n      <td>5</td>\n      <td>19</td>\n      <td>31</td>\n      <td>2018-12-31</td>\n    </tr>\n    <tr>\n      <th>629</th>\n      <td>Zimbabwe</td>\n      <td>2019</td>\n      <td>5</td>\n      <td>5</td>\n      <td>3</td>\n      <td>6</td>\n      <td>3</td>\n      <td>12</td>\n      <td>7</td>\n      <td>3</td>\n      <td>2</td>\n      <td>5</td>\n      <td>17</td>\n      <td>29</td>\n      <td>2019-12-31</td>\n    </tr>\n    <tr>\n      <th>419</th>\n      <td>Zimbabwe</td>\n      <td>2020</td>\n      <td>6</td>\n      <td>5</td>\n      <td>3</td>\n      <td>5</td>\n      <td>3</td>\n      <td>11</td>\n      <td>7</td>\n      <td>3</td>\n      <td>2</td>\n      <td>5</td>\n      <td>17</td>\n      <td>28</td>\n      <td>2020-12-31</td>\n    </tr>\n    <tr>\n      <th>209</th>\n      <td>Zimbabwe</td>\n      <td>2021</td>\n      <td>6</td>\n      <td>5</td>\n      <td>3</td>\n      <td>5</td>\n      <td>3</td>\n      <td>11</td>\n      <td>7</td>\n      <td>3</td>\n      <td>2</td>\n      <td>5</td>\n      <td>17</td>\n      <td>28</td>\n      <td>2021-12-31</td>\n    </tr>\n  </tbody>\n</table>\n<p>3549 rows × 15 columns</p>\n</div>"
     },
     "execution_count": 3,
     "metadata": {},
     "output_type": "execute_result"
    }
   ],
   "source": [
    "fp_fh = 'Aggregate_Category_and_Subcategory_Scores_FIW_2003-2022.xlsx'\n",
    "# read data\n",
    "df_free = pd.read_excel(fp_fh, sheet_name='FIW06-22')\n",
    "\n",
    "rename_cols = {\n",
    "    'Country/Territory': 'country',\n",
    "    'Edition': 'year',  # needs to be -1 in Data\n",
    "    'PR Rating': 'fh_political_rights_rating',\n",
    "    'CL Rating': 'fh_civil_liberties_rating',\n",
    "    'A': 'fh_electoral_process',\n",
    "    'B': 'fh_pol_pluralism_participation',\n",
    "    'C': 'fh_gov_functioning',\n",
    "    'PR': 'fh_political_rights_score',  # 40 max\n",
    "    'D': 'fh_freedom_expression',\n",
    "    'E': 'fh_assoc_org_rights',\n",
    "    'F': 'fh_rule_of_law',\n",
    "    'G': 'fh_individual_rights',\n",
    "    'CL': 'fh_civil_liberties_score',  # 60 max\n",
    "    'Total': 'fh_score'\n",
    "}\n",
    "df_free = df_free.dropna(axis=1, how='all').rename(columns=rename_cols)\n",
    "df_free = df_free.drop(columns=[col for col in df_free.columns if col not in rename_cols.values()])\n",
    "\n",
    "# some processing necessary:\n",
    "df_free['year'] = df_free.year - 1  # FH Edition is given in the data, which refers to observations from the previous year\n",
    "df_free = df_free.sort_values(['country', 'year'])\n",
    "df_free['time'] = df_free.year.apply(lambda x: pd.Timestamp(x, 12, 31))\n",
    "\n",
    "df_free"
   ],
   "metadata": {
    "collapsed": false,
    "ExecuteTime": {
     "end_time": "2023-11-09T15:43:35.407662Z",
     "start_time": "2023-11-09T15:43:34.966961800Z"
    }
   }
  },
  {
   "cell_type": "markdown",
   "source": [
    "Let's say we want to do a monthly model using freedom house data. First, create a monthly data structure while assigning the observation to the last month of each year. In my eyes, this is the logical choice for data usually published after the year is over. For other choices, the Imputer might have to be adapted somewhat.\n",
    "\n",
    "Since the imputer works based on location and time information in the index, we need to create an appropriate multiindex in the process."
   ],
   "metadata": {
    "collapsed": false
   }
  },
  {
   "cell_type": "code",
   "execution_count": 22,
   "outputs": [
    {
     "data": {
      "text/plain": "                     fh_political_rights_rating  fh_civil_liberties_rating  \\\ntime       country                                                           \n2005-01-31 Abkhazia                         NaN                        NaN   \n2005-02-28 Abkhazia                         NaN                        NaN   \n2005-03-31 Abkhazia                         NaN                        NaN   \n2005-04-30 Abkhazia                         NaN                        NaN   \n2005-05-31 Abkhazia                         NaN                        NaN   \n...                                         ...                        ...   \n2021-08-31 Zimbabwe                         NaN                        NaN   \n2021-09-30 Zimbabwe                         NaN                        NaN   \n2021-10-31 Zimbabwe                         NaN                        NaN   \n2021-11-30 Zimbabwe                         NaN                        NaN   \n2021-12-31 Zimbabwe                         6.0                        5.0   \n\n                     fh_electoral_process  fh_pol_pluralism_participation  \\\ntime       country                                                          \n2005-01-31 Abkhazia                   NaN                             NaN   \n2005-02-28 Abkhazia                   NaN                             NaN   \n2005-03-31 Abkhazia                   NaN                             NaN   \n2005-04-30 Abkhazia                   NaN                             NaN   \n2005-05-31 Abkhazia                   NaN                             NaN   \n...                                   ...                             ...   \n2021-08-31 Zimbabwe                   NaN                             NaN   \n2021-09-30 Zimbabwe                   NaN                             NaN   \n2021-10-31 Zimbabwe                   NaN                             NaN   \n2021-11-30 Zimbabwe                   NaN                             NaN   \n2021-12-31 Zimbabwe                   3.0                             5.0   \n\n                     fh_gov_functioning  fh_political_rights_score  \\\ntime       country                                                   \n2005-01-31 Abkhazia                 NaN                        NaN   \n2005-02-28 Abkhazia                 NaN                        NaN   \n2005-03-31 Abkhazia                 NaN                        NaN   \n2005-04-30 Abkhazia                 NaN                        NaN   \n2005-05-31 Abkhazia                 NaN                        NaN   \n...                                 ...                        ...   \n2021-08-31 Zimbabwe                 NaN                        NaN   \n2021-09-30 Zimbabwe                 NaN                        NaN   \n2021-10-31 Zimbabwe                 NaN                        NaN   \n2021-11-30 Zimbabwe                 NaN                        NaN   \n2021-12-31 Zimbabwe                 3.0                       11.0   \n\n                     fh_freedom_expression  fh_assoc_org_rights  \\\ntime       country                                                \n2005-01-31 Abkhazia                    NaN                  NaN   \n2005-02-28 Abkhazia                    NaN                  NaN   \n2005-03-31 Abkhazia                    NaN                  NaN   \n2005-04-30 Abkhazia                    NaN                  NaN   \n2005-05-31 Abkhazia                    NaN                  NaN   \n...                                    ...                  ...   \n2021-08-31 Zimbabwe                    NaN                  NaN   \n2021-09-30 Zimbabwe                    NaN                  NaN   \n2021-10-31 Zimbabwe                    NaN                  NaN   \n2021-11-30 Zimbabwe                    NaN                  NaN   \n2021-12-31 Zimbabwe                    7.0                  3.0   \n\n                     fh_rule_of_law  fh_individual_rights  \\\ntime       country                                          \n2005-01-31 Abkhazia             NaN                   NaN   \n2005-02-28 Abkhazia             NaN                   NaN   \n2005-03-31 Abkhazia             NaN                   NaN   \n2005-04-30 Abkhazia             NaN                   NaN   \n2005-05-31 Abkhazia             NaN                   NaN   \n...                             ...                   ...   \n2021-08-31 Zimbabwe             NaN                   NaN   \n2021-09-30 Zimbabwe             NaN                   NaN   \n2021-10-31 Zimbabwe             NaN                   NaN   \n2021-11-30 Zimbabwe             NaN                   NaN   \n2021-12-31 Zimbabwe             2.0                   5.0   \n\n                     fh_civil_liberties_score  fh_score  \ntime       country                                       \n2005-01-31 Abkhazia                       NaN       NaN  \n2005-02-28 Abkhazia                       NaN       NaN  \n2005-03-31 Abkhazia                       NaN       NaN  \n2005-04-30 Abkhazia                       NaN       NaN  \n2005-05-31 Abkhazia                       NaN       NaN  \n...                                       ...       ...  \n2021-08-31 Zimbabwe                       NaN       NaN  \n2021-09-30 Zimbabwe                       NaN       NaN  \n2021-10-31 Zimbabwe                       NaN       NaN  \n2021-11-30 Zimbabwe                       NaN       NaN  \n2021-12-31 Zimbabwe                      17.0      28.0  \n\n[40392 rows x 12 columns]",
      "text/html": "<div>\n<style scoped>\n    .dataframe tbody tr th:only-of-type {\n        vertical-align: middle;\n    }\n\n    .dataframe tbody tr th {\n        vertical-align: top;\n    }\n\n    .dataframe thead th {\n        text-align: right;\n    }\n</style>\n<table border=\"1\" class=\"dataframe\">\n  <thead>\n    <tr style=\"text-align: right;\">\n      <th></th>\n      <th></th>\n      <th>fh_political_rights_rating</th>\n      <th>fh_civil_liberties_rating</th>\n      <th>fh_electoral_process</th>\n      <th>fh_pol_pluralism_participation</th>\n      <th>fh_gov_functioning</th>\n      <th>fh_political_rights_score</th>\n      <th>fh_freedom_expression</th>\n      <th>fh_assoc_org_rights</th>\n      <th>fh_rule_of_law</th>\n      <th>fh_individual_rights</th>\n      <th>fh_civil_liberties_score</th>\n      <th>fh_score</th>\n    </tr>\n    <tr>\n      <th>time</th>\n      <th>country</th>\n      <th></th>\n      <th></th>\n      <th></th>\n      <th></th>\n      <th></th>\n      <th></th>\n      <th></th>\n      <th></th>\n      <th></th>\n      <th></th>\n      <th></th>\n      <th></th>\n    </tr>\n  </thead>\n  <tbody>\n    <tr>\n      <th>2005-01-31</th>\n      <th>Abkhazia</th>\n      <td>NaN</td>\n      <td>NaN</td>\n      <td>NaN</td>\n      <td>NaN</td>\n      <td>NaN</td>\n      <td>NaN</td>\n      <td>NaN</td>\n      <td>NaN</td>\n      <td>NaN</td>\n      <td>NaN</td>\n      <td>NaN</td>\n      <td>NaN</td>\n    </tr>\n    <tr>\n      <th>2005-02-28</th>\n      <th>Abkhazia</th>\n      <td>NaN</td>\n      <td>NaN</td>\n      <td>NaN</td>\n      <td>NaN</td>\n      <td>NaN</td>\n      <td>NaN</td>\n      <td>NaN</td>\n      <td>NaN</td>\n      <td>NaN</td>\n      <td>NaN</td>\n      <td>NaN</td>\n      <td>NaN</td>\n    </tr>\n    <tr>\n      <th>2005-03-31</th>\n      <th>Abkhazia</th>\n      <td>NaN</td>\n      <td>NaN</td>\n      <td>NaN</td>\n      <td>NaN</td>\n      <td>NaN</td>\n      <td>NaN</td>\n      <td>NaN</td>\n      <td>NaN</td>\n      <td>NaN</td>\n      <td>NaN</td>\n      <td>NaN</td>\n      <td>NaN</td>\n    </tr>\n    <tr>\n      <th>2005-04-30</th>\n      <th>Abkhazia</th>\n      <td>NaN</td>\n      <td>NaN</td>\n      <td>NaN</td>\n      <td>NaN</td>\n      <td>NaN</td>\n      <td>NaN</td>\n      <td>NaN</td>\n      <td>NaN</td>\n      <td>NaN</td>\n      <td>NaN</td>\n      <td>NaN</td>\n      <td>NaN</td>\n    </tr>\n    <tr>\n      <th>2005-05-31</th>\n      <th>Abkhazia</th>\n      <td>NaN</td>\n      <td>NaN</td>\n      <td>NaN</td>\n      <td>NaN</td>\n      <td>NaN</td>\n      <td>NaN</td>\n      <td>NaN</td>\n      <td>NaN</td>\n      <td>NaN</td>\n      <td>NaN</td>\n      <td>NaN</td>\n      <td>NaN</td>\n    </tr>\n    <tr>\n      <th>...</th>\n      <th>...</th>\n      <td>...</td>\n      <td>...</td>\n      <td>...</td>\n      <td>...</td>\n      <td>...</td>\n      <td>...</td>\n      <td>...</td>\n      <td>...</td>\n      <td>...</td>\n      <td>...</td>\n      <td>...</td>\n      <td>...</td>\n    </tr>\n    <tr>\n      <th>2021-08-31</th>\n      <th>Zimbabwe</th>\n      <td>NaN</td>\n      <td>NaN</td>\n      <td>NaN</td>\n      <td>NaN</td>\n      <td>NaN</td>\n      <td>NaN</td>\n      <td>NaN</td>\n      <td>NaN</td>\n      <td>NaN</td>\n      <td>NaN</td>\n      <td>NaN</td>\n      <td>NaN</td>\n    </tr>\n    <tr>\n      <th>2021-09-30</th>\n      <th>Zimbabwe</th>\n      <td>NaN</td>\n      <td>NaN</td>\n      <td>NaN</td>\n      <td>NaN</td>\n      <td>NaN</td>\n      <td>NaN</td>\n      <td>NaN</td>\n      <td>NaN</td>\n      <td>NaN</td>\n      <td>NaN</td>\n      <td>NaN</td>\n      <td>NaN</td>\n    </tr>\n    <tr>\n      <th>2021-10-31</th>\n      <th>Zimbabwe</th>\n      <td>NaN</td>\n      <td>NaN</td>\n      <td>NaN</td>\n      <td>NaN</td>\n      <td>NaN</td>\n      <td>NaN</td>\n      <td>NaN</td>\n      <td>NaN</td>\n      <td>NaN</td>\n      <td>NaN</td>\n      <td>NaN</td>\n      <td>NaN</td>\n    </tr>\n    <tr>\n      <th>2021-11-30</th>\n      <th>Zimbabwe</th>\n      <td>NaN</td>\n      <td>NaN</td>\n      <td>NaN</td>\n      <td>NaN</td>\n      <td>NaN</td>\n      <td>NaN</td>\n      <td>NaN</td>\n      <td>NaN</td>\n      <td>NaN</td>\n      <td>NaN</td>\n      <td>NaN</td>\n      <td>NaN</td>\n    </tr>\n    <tr>\n      <th>2021-12-31</th>\n      <th>Zimbabwe</th>\n      <td>6.0</td>\n      <td>5.0</td>\n      <td>3.0</td>\n      <td>5.0</td>\n      <td>3.0</td>\n      <td>11.0</td>\n      <td>7.0</td>\n      <td>3.0</td>\n      <td>2.0</td>\n      <td>5.0</td>\n      <td>17.0</td>\n      <td>28.0</td>\n    </tr>\n  </tbody>\n</table>\n<p>40392 rows × 12 columns</p>\n</div>"
     },
     "execution_count": 22,
     "metadata": {},
     "output_type": "execute_result"
    }
   ],
   "source": [
    "df_list = []\n",
    "for country in df_free.country.unique():\n",
    "    df_empty = pd.DataFrame(index=pd.date_range(pd.Timestamp(2005,1,31), pd.Timestamp(2021,12,31), freq='M', name='time'))\n",
    "    # we run into some issues with inconsistent country naming over time, so we just don't use those for this example :)\n",
    "    if len(df_free[df_free.country==country]) == 17:\n",
    "        df_country = df_empty.merge(df_free[df_free.country==country].set_index('time'), how='left', left_index=True, right_index=True)\n",
    "        df_country.country = df_country.country.bfill().ffill()\n",
    "        df_list.append(df_country)\n",
    "df = pd.concat(df_list).drop(columns='year').set_index('country', append=True)\n",
    "df"
   ],
   "metadata": {
    "collapsed": false,
    "ExecuteTime": {
     "end_time": "2023-11-09T15:49:29.487892500Z",
     "start_time": "2023-11-09T15:49:28.660957100Z"
    }
   }
  },
  {
   "cell_type": "markdown",
   "source": [
    "Now we have our dataframe with a location/time multiindex, lets see how the imputer works. First: simply backfilling the values for the whole year. In case of NaNs as most recent values, which we don't have in this example, the imputer uses the last seen value."
   ],
   "metadata": {
    "collapsed": false
   }
  },
  {
   "cell_type": "code",
   "execution_count": 23,
   "outputs": [
    {
     "data": {
      "text/plain": "                     fh_political_rights_rating  fh_civil_liberties_rating  \\\ntime       country                                                           \n2005-01-31 Abkhazia                         5.0                        5.0   \n2005-02-28 Abkhazia                         5.0                        5.0   \n2005-03-31 Abkhazia                         5.0                        5.0   \n2005-04-30 Abkhazia                         5.0                        5.0   \n2005-05-31 Abkhazia                         5.0                        5.0   \n...                                         ...                        ...   \n2021-08-31 Zimbabwe                         6.0                        5.0   \n2021-09-30 Zimbabwe                         6.0                        5.0   \n2021-10-31 Zimbabwe                         6.0                        5.0   \n2021-11-30 Zimbabwe                         6.0                        5.0   \n2021-12-31 Zimbabwe                         6.0                        5.0   \n\n                     fh_electoral_process  fh_pol_pluralism_participation  \\\ntime       country                                                          \n2005-01-31 Abkhazia                   5.0                             5.0   \n2005-02-28 Abkhazia                   5.0                             5.0   \n2005-03-31 Abkhazia                   5.0                             5.0   \n2005-04-30 Abkhazia                   5.0                             5.0   \n2005-05-31 Abkhazia                   5.0                             5.0   \n...                                   ...                             ...   \n2021-08-31 Zimbabwe                   3.0                             5.0   \n2021-09-30 Zimbabwe                   3.0                             5.0   \n2021-10-31 Zimbabwe                   3.0                             5.0   \n2021-11-30 Zimbabwe                   3.0                             5.0   \n2021-12-31 Zimbabwe                   3.0                             5.0   \n\n                     fh_gov_functioning  fh_political_rights_score  \\\ntime       country                                                   \n2005-01-31 Abkhazia                 3.0                       13.0   \n2005-02-28 Abkhazia                 3.0                       13.0   \n2005-03-31 Abkhazia                 3.0                       13.0   \n2005-04-30 Abkhazia                 3.0                       13.0   \n2005-05-31 Abkhazia                 3.0                       13.0   \n...                                 ...                        ...   \n2021-08-31 Zimbabwe                 3.0                       11.0   \n2021-09-30 Zimbabwe                 3.0                       11.0   \n2021-10-31 Zimbabwe                 3.0                       11.0   \n2021-11-30 Zimbabwe                 3.0                       11.0   \n2021-12-31 Zimbabwe                 3.0                       11.0   \n\n                     fh_freedom_expression  fh_assoc_org_rights  \\\ntime       country                                                \n2005-01-31 Abkhazia                    8.0                  4.0   \n2005-02-28 Abkhazia                    8.0                  4.0   \n2005-03-31 Abkhazia                    8.0                  4.0   \n2005-04-30 Abkhazia                    8.0                  4.0   \n2005-05-31 Abkhazia                    8.0                  4.0   \n...                                    ...                  ...   \n2021-08-31 Zimbabwe                    7.0                  3.0   \n2021-09-30 Zimbabwe                    7.0                  3.0   \n2021-10-31 Zimbabwe                    7.0                  3.0   \n2021-11-30 Zimbabwe                    7.0                  3.0   \n2021-12-31 Zimbabwe                    7.0                  3.0   \n\n                     fh_rule_of_law  fh_individual_rights  \\\ntime       country                                          \n2005-01-31 Abkhazia             4.0                   5.0   \n2005-02-28 Abkhazia             4.0                   5.0   \n2005-03-31 Abkhazia             4.0                   5.0   \n2005-04-30 Abkhazia             4.0                   5.0   \n2005-05-31 Abkhazia             4.0                   5.0   \n...                             ...                   ...   \n2021-08-31 Zimbabwe             2.0                   5.0   \n2021-09-30 Zimbabwe             2.0                   5.0   \n2021-10-31 Zimbabwe             2.0                   5.0   \n2021-11-30 Zimbabwe             2.0                   5.0   \n2021-12-31 Zimbabwe             2.0                   5.0   \n\n                     fh_civil_liberties_score  fh_score  \ntime       country                                       \n2005-01-31 Abkhazia                      21.0      34.0  \n2005-02-28 Abkhazia                      21.0      34.0  \n2005-03-31 Abkhazia                      21.0      34.0  \n2005-04-30 Abkhazia                      21.0      34.0  \n2005-05-31 Abkhazia                      21.0      34.0  \n...                                       ...       ...  \n2021-08-31 Zimbabwe                      17.0      28.0  \n2021-09-30 Zimbabwe                      17.0      28.0  \n2021-10-31 Zimbabwe                      17.0      28.0  \n2021-11-30 Zimbabwe                      17.0      28.0  \n2021-12-31 Zimbabwe                      17.0      28.0  \n\n[40392 rows x 12 columns]",
      "text/html": "<div>\n<style scoped>\n    .dataframe tbody tr th:only-of-type {\n        vertical-align: middle;\n    }\n\n    .dataframe tbody tr th {\n        vertical-align: top;\n    }\n\n    .dataframe thead th {\n        text-align: right;\n    }\n</style>\n<table border=\"1\" class=\"dataframe\">\n  <thead>\n    <tr style=\"text-align: right;\">\n      <th></th>\n      <th></th>\n      <th>fh_political_rights_rating</th>\n      <th>fh_civil_liberties_rating</th>\n      <th>fh_electoral_process</th>\n      <th>fh_pol_pluralism_participation</th>\n      <th>fh_gov_functioning</th>\n      <th>fh_political_rights_score</th>\n      <th>fh_freedom_expression</th>\n      <th>fh_assoc_org_rights</th>\n      <th>fh_rule_of_law</th>\n      <th>fh_individual_rights</th>\n      <th>fh_civil_liberties_score</th>\n      <th>fh_score</th>\n    </tr>\n    <tr>\n      <th>time</th>\n      <th>country</th>\n      <th></th>\n      <th></th>\n      <th></th>\n      <th></th>\n      <th></th>\n      <th></th>\n      <th></th>\n      <th></th>\n      <th></th>\n      <th></th>\n      <th></th>\n      <th></th>\n    </tr>\n  </thead>\n  <tbody>\n    <tr>\n      <th>2005-01-31</th>\n      <th>Abkhazia</th>\n      <td>5.0</td>\n      <td>5.0</td>\n      <td>5.0</td>\n      <td>5.0</td>\n      <td>3.0</td>\n      <td>13.0</td>\n      <td>8.0</td>\n      <td>4.0</td>\n      <td>4.0</td>\n      <td>5.0</td>\n      <td>21.0</td>\n      <td>34.0</td>\n    </tr>\n    <tr>\n      <th>2005-02-28</th>\n      <th>Abkhazia</th>\n      <td>5.0</td>\n      <td>5.0</td>\n      <td>5.0</td>\n      <td>5.0</td>\n      <td>3.0</td>\n      <td>13.0</td>\n      <td>8.0</td>\n      <td>4.0</td>\n      <td>4.0</td>\n      <td>5.0</td>\n      <td>21.0</td>\n      <td>34.0</td>\n    </tr>\n    <tr>\n      <th>2005-03-31</th>\n      <th>Abkhazia</th>\n      <td>5.0</td>\n      <td>5.0</td>\n      <td>5.0</td>\n      <td>5.0</td>\n      <td>3.0</td>\n      <td>13.0</td>\n      <td>8.0</td>\n      <td>4.0</td>\n      <td>4.0</td>\n      <td>5.0</td>\n      <td>21.0</td>\n      <td>34.0</td>\n    </tr>\n    <tr>\n      <th>2005-04-30</th>\n      <th>Abkhazia</th>\n      <td>5.0</td>\n      <td>5.0</td>\n      <td>5.0</td>\n      <td>5.0</td>\n      <td>3.0</td>\n      <td>13.0</td>\n      <td>8.0</td>\n      <td>4.0</td>\n      <td>4.0</td>\n      <td>5.0</td>\n      <td>21.0</td>\n      <td>34.0</td>\n    </tr>\n    <tr>\n      <th>2005-05-31</th>\n      <th>Abkhazia</th>\n      <td>5.0</td>\n      <td>5.0</td>\n      <td>5.0</td>\n      <td>5.0</td>\n      <td>3.0</td>\n      <td>13.0</td>\n      <td>8.0</td>\n      <td>4.0</td>\n      <td>4.0</td>\n      <td>5.0</td>\n      <td>21.0</td>\n      <td>34.0</td>\n    </tr>\n    <tr>\n      <th>...</th>\n      <th>...</th>\n      <td>...</td>\n      <td>...</td>\n      <td>...</td>\n      <td>...</td>\n      <td>...</td>\n      <td>...</td>\n      <td>...</td>\n      <td>...</td>\n      <td>...</td>\n      <td>...</td>\n      <td>...</td>\n      <td>...</td>\n    </tr>\n    <tr>\n      <th>2021-08-31</th>\n      <th>Zimbabwe</th>\n      <td>6.0</td>\n      <td>5.0</td>\n      <td>3.0</td>\n      <td>5.0</td>\n      <td>3.0</td>\n      <td>11.0</td>\n      <td>7.0</td>\n      <td>3.0</td>\n      <td>2.0</td>\n      <td>5.0</td>\n      <td>17.0</td>\n      <td>28.0</td>\n    </tr>\n    <tr>\n      <th>2021-09-30</th>\n      <th>Zimbabwe</th>\n      <td>6.0</td>\n      <td>5.0</td>\n      <td>3.0</td>\n      <td>5.0</td>\n      <td>3.0</td>\n      <td>11.0</td>\n      <td>7.0</td>\n      <td>3.0</td>\n      <td>2.0</td>\n      <td>5.0</td>\n      <td>17.0</td>\n      <td>28.0</td>\n    </tr>\n    <tr>\n      <th>2021-10-31</th>\n      <th>Zimbabwe</th>\n      <td>6.0</td>\n      <td>5.0</td>\n      <td>3.0</td>\n      <td>5.0</td>\n      <td>3.0</td>\n      <td>11.0</td>\n      <td>7.0</td>\n      <td>3.0</td>\n      <td>2.0</td>\n      <td>5.0</td>\n      <td>17.0</td>\n      <td>28.0</td>\n    </tr>\n    <tr>\n      <th>2021-11-30</th>\n      <th>Zimbabwe</th>\n      <td>6.0</td>\n      <td>5.0</td>\n      <td>3.0</td>\n      <td>5.0</td>\n      <td>3.0</td>\n      <td>11.0</td>\n      <td>7.0</td>\n      <td>3.0</td>\n      <td>2.0</td>\n      <td>5.0</td>\n      <td>17.0</td>\n      <td>28.0</td>\n    </tr>\n    <tr>\n      <th>2021-12-31</th>\n      <th>Zimbabwe</th>\n      <td>6.0</td>\n      <td>5.0</td>\n      <td>3.0</td>\n      <td>5.0</td>\n      <td>3.0</td>\n      <td>11.0</td>\n      <td>7.0</td>\n      <td>3.0</td>\n      <td>2.0</td>\n      <td>5.0</td>\n      <td>17.0</td>\n      <td>28.0</td>\n    </tr>\n  </tbody>\n</table>\n<p>40392 rows × 12 columns</p>\n</div>"
     },
     "execution_count": 23,
     "metadata": {},
     "output_type": "execute_result"
    }
   ],
   "source": [
    "imp_bfill = TimeSeriesImputer(\n",
    "    location_index='country',\n",
    "    time_index='time',\n",
    "    method='bfill'\n",
    ")\n",
    "\n",
    "df_imputed_bfill = imp_bfill.fit_transform(df)\n",
    "df_imputed_bfill"
   ],
   "metadata": {
    "collapsed": false,
    "ExecuteTime": {
     "end_time": "2023-11-09T15:49:29.655995300Z",
     "start_time": "2023-11-09T15:49:29.552508300Z"
    }
   }
  },
  {
   "cell_type": "markdown",
   "source": [
    "Second: The class also implements an interpolation option. For this, we can pass arguments to define the interpolation method (see the pandas.interpolate documentation for this) and the behavior at the tails, whether to extrapolate or fill the last seen value. The tail behavior can be passed as string, which is applied to both ends, or as tuple/list of length 2, to treat ends separately.\n",
    "\n",
    "(Scroll down to Afghanistan to see the behavior in the output, there is no change in the Abkhazia data between 2005 and 2006 so interpolation results in the same values as filling)"
   ],
   "metadata": {
    "collapsed": false
   }
  },
  {
   "cell_type": "code",
   "execution_count": 24,
   "outputs": [
    {
     "data": {
      "text/plain": "                     fh_political_rights_rating  fh_civil_liberties_rating  \\\ntime       country                                                           \n2005-01-31 Abkhazia                         5.0                        5.0   \n2005-02-28 Abkhazia                         5.0                        5.0   \n2005-03-31 Abkhazia                         5.0                        5.0   \n2005-04-30 Abkhazia                         5.0                        5.0   \n2005-05-31 Abkhazia                         5.0                        5.0   \n...                                         ...                        ...   \n2021-08-31 Zimbabwe                         6.0                        5.0   \n2021-09-30 Zimbabwe                         6.0                        5.0   \n2021-10-31 Zimbabwe                         6.0                        5.0   \n2021-11-30 Zimbabwe                         6.0                        5.0   \n2021-12-31 Zimbabwe                         6.0                        5.0   \n\n                     fh_electoral_process  fh_pol_pluralism_participation  \\\ntime       country                                                          \n2005-01-31 Abkhazia                   5.0                             5.0   \n2005-02-28 Abkhazia                   5.0                             5.0   \n2005-03-31 Abkhazia                   5.0                             5.0   \n2005-04-30 Abkhazia                   5.0                             5.0   \n2005-05-31 Abkhazia                   5.0                             5.0   \n...                                   ...                             ...   \n2021-08-31 Zimbabwe                   3.0                             5.0   \n2021-09-30 Zimbabwe                   3.0                             5.0   \n2021-10-31 Zimbabwe                   3.0                             5.0   \n2021-11-30 Zimbabwe                   3.0                             5.0   \n2021-12-31 Zimbabwe                   3.0                             5.0   \n\n                     fh_gov_functioning  fh_political_rights_score  \\\ntime       country                                                   \n2005-01-31 Abkhazia                 3.0                       13.0   \n2005-02-28 Abkhazia                 3.0                       13.0   \n2005-03-31 Abkhazia                 3.0                       13.0   \n2005-04-30 Abkhazia                 3.0                       13.0   \n2005-05-31 Abkhazia                 3.0                       13.0   \n...                                 ...                        ...   \n2021-08-31 Zimbabwe                 3.0                       11.0   \n2021-09-30 Zimbabwe                 3.0                       11.0   \n2021-10-31 Zimbabwe                 3.0                       11.0   \n2021-11-30 Zimbabwe                 3.0                       11.0   \n2021-12-31 Zimbabwe                 3.0                       11.0   \n\n                     fh_freedom_expression  fh_assoc_org_rights  \\\ntime       country                                                \n2005-01-31 Abkhazia                    8.0                  4.0   \n2005-02-28 Abkhazia                    8.0                  4.0   \n2005-03-31 Abkhazia                    8.0                  4.0   \n2005-04-30 Abkhazia                    8.0                  4.0   \n2005-05-31 Abkhazia                    8.0                  4.0   \n...                                    ...                  ...   \n2021-08-31 Zimbabwe                    7.0                  3.0   \n2021-09-30 Zimbabwe                    7.0                  3.0   \n2021-10-31 Zimbabwe                    7.0                  3.0   \n2021-11-30 Zimbabwe                    7.0                  3.0   \n2021-12-31 Zimbabwe                    7.0                  3.0   \n\n                     fh_rule_of_law  fh_individual_rights  \\\ntime       country                                          \n2005-01-31 Abkhazia             4.0                   5.0   \n2005-02-28 Abkhazia             4.0                   5.0   \n2005-03-31 Abkhazia             4.0                   5.0   \n2005-04-30 Abkhazia             4.0                   5.0   \n2005-05-31 Abkhazia             4.0                   5.0   \n...                             ...                   ...   \n2021-08-31 Zimbabwe             2.0                   5.0   \n2021-09-30 Zimbabwe             2.0                   5.0   \n2021-10-31 Zimbabwe             2.0                   5.0   \n2021-11-30 Zimbabwe             2.0                   5.0   \n2021-12-31 Zimbabwe             2.0                   5.0   \n\n                     fh_civil_liberties_score  fh_score  \ntime       country                                       \n2005-01-31 Abkhazia                      21.0      34.0  \n2005-02-28 Abkhazia                      21.0      34.0  \n2005-03-31 Abkhazia                      21.0      34.0  \n2005-04-30 Abkhazia                      21.0      34.0  \n2005-05-31 Abkhazia                      21.0      34.0  \n...                                       ...       ...  \n2021-08-31 Zimbabwe                      17.0      28.0  \n2021-09-30 Zimbabwe                      17.0      28.0  \n2021-10-31 Zimbabwe                      17.0      28.0  \n2021-11-30 Zimbabwe                      17.0      28.0  \n2021-12-31 Zimbabwe                      17.0      28.0  \n\n[40392 rows x 12 columns]",
      "text/html": "<div>\n<style scoped>\n    .dataframe tbody tr th:only-of-type {\n        vertical-align: middle;\n    }\n\n    .dataframe tbody tr th {\n        vertical-align: top;\n    }\n\n    .dataframe thead th {\n        text-align: right;\n    }\n</style>\n<table border=\"1\" class=\"dataframe\">\n  <thead>\n    <tr style=\"text-align: right;\">\n      <th></th>\n      <th></th>\n      <th>fh_political_rights_rating</th>\n      <th>fh_civil_liberties_rating</th>\n      <th>fh_electoral_process</th>\n      <th>fh_pol_pluralism_participation</th>\n      <th>fh_gov_functioning</th>\n      <th>fh_political_rights_score</th>\n      <th>fh_freedom_expression</th>\n      <th>fh_assoc_org_rights</th>\n      <th>fh_rule_of_law</th>\n      <th>fh_individual_rights</th>\n      <th>fh_civil_liberties_score</th>\n      <th>fh_score</th>\n    </tr>\n    <tr>\n      <th>time</th>\n      <th>country</th>\n      <th></th>\n      <th></th>\n      <th></th>\n      <th></th>\n      <th></th>\n      <th></th>\n      <th></th>\n      <th></th>\n      <th></th>\n      <th></th>\n      <th></th>\n      <th></th>\n    </tr>\n  </thead>\n  <tbody>\n    <tr>\n      <th>2005-01-31</th>\n      <th>Abkhazia</th>\n      <td>5.0</td>\n      <td>5.0</td>\n      <td>5.0</td>\n      <td>5.0</td>\n      <td>3.0</td>\n      <td>13.0</td>\n      <td>8.0</td>\n      <td>4.0</td>\n      <td>4.0</td>\n      <td>5.0</td>\n      <td>21.0</td>\n      <td>34.0</td>\n    </tr>\n    <tr>\n      <th>2005-02-28</th>\n      <th>Abkhazia</th>\n      <td>5.0</td>\n      <td>5.0</td>\n      <td>5.0</td>\n      <td>5.0</td>\n      <td>3.0</td>\n      <td>13.0</td>\n      <td>8.0</td>\n      <td>4.0</td>\n      <td>4.0</td>\n      <td>5.0</td>\n      <td>21.0</td>\n      <td>34.0</td>\n    </tr>\n    <tr>\n      <th>2005-03-31</th>\n      <th>Abkhazia</th>\n      <td>5.0</td>\n      <td>5.0</td>\n      <td>5.0</td>\n      <td>5.0</td>\n      <td>3.0</td>\n      <td>13.0</td>\n      <td>8.0</td>\n      <td>4.0</td>\n      <td>4.0</td>\n      <td>5.0</td>\n      <td>21.0</td>\n      <td>34.0</td>\n    </tr>\n    <tr>\n      <th>2005-04-30</th>\n      <th>Abkhazia</th>\n      <td>5.0</td>\n      <td>5.0</td>\n      <td>5.0</td>\n      <td>5.0</td>\n      <td>3.0</td>\n      <td>13.0</td>\n      <td>8.0</td>\n      <td>4.0</td>\n      <td>4.0</td>\n      <td>5.0</td>\n      <td>21.0</td>\n      <td>34.0</td>\n    </tr>\n    <tr>\n      <th>2005-05-31</th>\n      <th>Abkhazia</th>\n      <td>5.0</td>\n      <td>5.0</td>\n      <td>5.0</td>\n      <td>5.0</td>\n      <td>3.0</td>\n      <td>13.0</td>\n      <td>8.0</td>\n      <td>4.0</td>\n      <td>4.0</td>\n      <td>5.0</td>\n      <td>21.0</td>\n      <td>34.0</td>\n    </tr>\n    <tr>\n      <th>...</th>\n      <th>...</th>\n      <td>...</td>\n      <td>...</td>\n      <td>...</td>\n      <td>...</td>\n      <td>...</td>\n      <td>...</td>\n      <td>...</td>\n      <td>...</td>\n      <td>...</td>\n      <td>...</td>\n      <td>...</td>\n      <td>...</td>\n    </tr>\n    <tr>\n      <th>2021-08-31</th>\n      <th>Zimbabwe</th>\n      <td>6.0</td>\n      <td>5.0</td>\n      <td>3.0</td>\n      <td>5.0</td>\n      <td>3.0</td>\n      <td>11.0</td>\n      <td>7.0</td>\n      <td>3.0</td>\n      <td>2.0</td>\n      <td>5.0</td>\n      <td>17.0</td>\n      <td>28.0</td>\n    </tr>\n    <tr>\n      <th>2021-09-30</th>\n      <th>Zimbabwe</th>\n      <td>6.0</td>\n      <td>5.0</td>\n      <td>3.0</td>\n      <td>5.0</td>\n      <td>3.0</td>\n      <td>11.0</td>\n      <td>7.0</td>\n      <td>3.0</td>\n      <td>2.0</td>\n      <td>5.0</td>\n      <td>17.0</td>\n      <td>28.0</td>\n    </tr>\n    <tr>\n      <th>2021-10-31</th>\n      <th>Zimbabwe</th>\n      <td>6.0</td>\n      <td>5.0</td>\n      <td>3.0</td>\n      <td>5.0</td>\n      <td>3.0</td>\n      <td>11.0</td>\n      <td>7.0</td>\n      <td>3.0</td>\n      <td>2.0</td>\n      <td>5.0</td>\n      <td>17.0</td>\n      <td>28.0</td>\n    </tr>\n    <tr>\n      <th>2021-11-30</th>\n      <th>Zimbabwe</th>\n      <td>6.0</td>\n      <td>5.0</td>\n      <td>3.0</td>\n      <td>5.0</td>\n      <td>3.0</td>\n      <td>11.0</td>\n      <td>7.0</td>\n      <td>3.0</td>\n      <td>2.0</td>\n      <td>5.0</td>\n      <td>17.0</td>\n      <td>28.0</td>\n    </tr>\n    <tr>\n      <th>2021-12-31</th>\n      <th>Zimbabwe</th>\n      <td>6.0</td>\n      <td>5.0</td>\n      <td>3.0</td>\n      <td>5.0</td>\n      <td>3.0</td>\n      <td>11.0</td>\n      <td>7.0</td>\n      <td>3.0</td>\n      <td>2.0</td>\n      <td>5.0</td>\n      <td>17.0</td>\n      <td>28.0</td>\n    </tr>\n  </tbody>\n</table>\n<p>40392 rows × 12 columns</p>\n</div>"
     },
     "execution_count": 24,
     "metadata": {},
     "output_type": "execute_result"
    }
   ],
   "source": [
    "imp_interp = TimeSeriesImputer(\n",
    "    location_index='country',\n",
    "    time_index='time',\n",
    "    method='interpolate',\n",
    "    interp_method='slinear',\n",
    "    interp_tails= 'extrapolate' # alternative: e.g. ['extrapolate', 'fill']\n",
    ")\n",
    "\n",
    "df_imputed_interp = imp_interp.fit_transform(df)\n",
    "df_imputed_interp"
   ],
   "metadata": {
    "collapsed": false,
    "ExecuteTime": {
     "end_time": "2023-11-09T15:49:34.987725200Z",
     "start_time": "2023-11-09T15:49:33.005495300Z"
    }
   }
  },
  {
   "cell_type": "markdown",
   "source": [
    "Lastly: The TimeSeriesImputer can simply be used as part of sklearn pipelines, as illustrated in this (nonsensical) example with a random target."
   ],
   "metadata": {
    "collapsed": false
   }
  },
  {
   "cell_type": "code",
   "execution_count": 25,
   "outputs": [
    {
     "data": {
      "text/plain": "Pipeline(steps=[('impute',\n                 TimeSeriesImputer(interp_method='slinear',\n                                   interp_tails='extrapolate',\n                                   location_index='country',\n                                   method='interpolate', time_index='time')),\n                ('model', RandomForestClassifier())])",
      "text/html": "<style>#sk-container-id-1 {color: black;background-color: white;}#sk-container-id-1 pre{padding: 0;}#sk-container-id-1 div.sk-toggleable {background-color: white;}#sk-container-id-1 label.sk-toggleable__label {cursor: pointer;display: block;width: 100%;margin-bottom: 0;padding: 0.3em;box-sizing: border-box;text-align: center;}#sk-container-id-1 label.sk-toggleable__label-arrow:before {content: \"▸\";float: left;margin-right: 0.25em;color: #696969;}#sk-container-id-1 label.sk-toggleable__label-arrow:hover:before {color: black;}#sk-container-id-1 div.sk-estimator:hover label.sk-toggleable__label-arrow:before {color: black;}#sk-container-id-1 div.sk-toggleable__content {max-height: 0;max-width: 0;overflow: hidden;text-align: left;background-color: #f0f8ff;}#sk-container-id-1 div.sk-toggleable__content pre {margin: 0.2em;color: black;border-radius: 0.25em;background-color: #f0f8ff;}#sk-container-id-1 input.sk-toggleable__control:checked~div.sk-toggleable__content {max-height: 200px;max-width: 100%;overflow: auto;}#sk-container-id-1 input.sk-toggleable__control:checked~label.sk-toggleable__label-arrow:before {content: \"▾\";}#sk-container-id-1 div.sk-estimator input.sk-toggleable__control:checked~label.sk-toggleable__label {background-color: #d4ebff;}#sk-container-id-1 div.sk-label input.sk-toggleable__control:checked~label.sk-toggleable__label {background-color: #d4ebff;}#sk-container-id-1 input.sk-hidden--visually {border: 0;clip: rect(1px 1px 1px 1px);clip: rect(1px, 1px, 1px, 1px);height: 1px;margin: -1px;overflow: hidden;padding: 0;position: absolute;width: 1px;}#sk-container-id-1 div.sk-estimator {font-family: monospace;background-color: #f0f8ff;border: 1px dotted black;border-radius: 0.25em;box-sizing: border-box;margin-bottom: 0.5em;}#sk-container-id-1 div.sk-estimator:hover {background-color: #d4ebff;}#sk-container-id-1 div.sk-parallel-item::after {content: \"\";width: 100%;border-bottom: 1px solid gray;flex-grow: 1;}#sk-container-id-1 div.sk-label:hover label.sk-toggleable__label {background-color: #d4ebff;}#sk-container-id-1 div.sk-serial::before {content: \"\";position: absolute;border-left: 1px solid gray;box-sizing: border-box;top: 0;bottom: 0;left: 50%;z-index: 0;}#sk-container-id-1 div.sk-serial {display: flex;flex-direction: column;align-items: center;background-color: white;padding-right: 0.2em;padding-left: 0.2em;position: relative;}#sk-container-id-1 div.sk-item {position: relative;z-index: 1;}#sk-container-id-1 div.sk-parallel {display: flex;align-items: stretch;justify-content: center;background-color: white;position: relative;}#sk-container-id-1 div.sk-item::before, #sk-container-id-1 div.sk-parallel-item::before {content: \"\";position: absolute;border-left: 1px solid gray;box-sizing: border-box;top: 0;bottom: 0;left: 50%;z-index: -1;}#sk-container-id-1 div.sk-parallel-item {display: flex;flex-direction: column;z-index: 1;position: relative;background-color: white;}#sk-container-id-1 div.sk-parallel-item:first-child::after {align-self: flex-end;width: 50%;}#sk-container-id-1 div.sk-parallel-item:last-child::after {align-self: flex-start;width: 50%;}#sk-container-id-1 div.sk-parallel-item:only-child::after {width: 0;}#sk-container-id-1 div.sk-dashed-wrapped {border: 1px dashed gray;margin: 0 0.4em 0.5em 0.4em;box-sizing: border-box;padding-bottom: 0.4em;background-color: white;}#sk-container-id-1 div.sk-label label {font-family: monospace;font-weight: bold;display: inline-block;line-height: 1.2em;}#sk-container-id-1 div.sk-label-container {text-align: center;}#sk-container-id-1 div.sk-container {/* jupyter's `normalize.less` sets `[hidden] { display: none; }` but bootstrap.min.css set `[hidden] { display: none !important; }` so we also need the `!important` here to be able to override the default hidden behavior on the sphinx rendered scikit-learn.org. See: https://github.com/scikit-learn/scikit-learn/issues/21755 */display: inline-block !important;position: relative;}#sk-container-id-1 div.sk-text-repr-fallback {display: none;}</style><div id=\"sk-container-id-1\" class=\"sk-top-container\"><div class=\"sk-text-repr-fallback\"><pre>Pipeline(steps=[(&#x27;impute&#x27;,\n                 TimeSeriesImputer(interp_method=&#x27;slinear&#x27;,\n                                   interp_tails=&#x27;extrapolate&#x27;,\n                                   location_index=&#x27;country&#x27;,\n                                   method=&#x27;interpolate&#x27;, time_index=&#x27;time&#x27;)),\n                (&#x27;model&#x27;, RandomForestClassifier())])</pre><b>In a Jupyter environment, please rerun this cell to show the HTML representation or trust the notebook. <br />On GitHub, the HTML representation is unable to render, please try loading this page with nbviewer.org.</b></div><div class=\"sk-container\" hidden><div class=\"sk-item sk-dashed-wrapped\"><div class=\"sk-label-container\"><div class=\"sk-label sk-toggleable\"><input class=\"sk-toggleable__control sk-hidden--visually\" id=\"sk-estimator-id-1\" type=\"checkbox\" ><label for=\"sk-estimator-id-1\" class=\"sk-toggleable__label sk-toggleable__label-arrow\">Pipeline</label><div class=\"sk-toggleable__content\"><pre>Pipeline(steps=[(&#x27;impute&#x27;,\n                 TimeSeriesImputer(interp_method=&#x27;slinear&#x27;,\n                                   interp_tails=&#x27;extrapolate&#x27;,\n                                   location_index=&#x27;country&#x27;,\n                                   method=&#x27;interpolate&#x27;, time_index=&#x27;time&#x27;)),\n                (&#x27;model&#x27;, RandomForestClassifier())])</pre></div></div></div><div class=\"sk-serial\"><div class=\"sk-item\"><div class=\"sk-estimator sk-toggleable\"><input class=\"sk-toggleable__control sk-hidden--visually\" id=\"sk-estimator-id-2\" type=\"checkbox\" ><label for=\"sk-estimator-id-2\" class=\"sk-toggleable__label sk-toggleable__label-arrow\">TimeSeriesImputer</label><div class=\"sk-toggleable__content\"><pre>TimeSeriesImputer(interp_method=&#x27;slinear&#x27;, interp_tails=&#x27;extrapolate&#x27;,\n                  location_index=&#x27;country&#x27;, method=&#x27;interpolate&#x27;,\n                  time_index=&#x27;time&#x27;)</pre></div></div></div><div class=\"sk-item\"><div class=\"sk-estimator sk-toggleable\"><input class=\"sk-toggleable__control sk-hidden--visually\" id=\"sk-estimator-id-3\" type=\"checkbox\" ><label for=\"sk-estimator-id-3\" class=\"sk-toggleable__label sk-toggleable__label-arrow\">RandomForestClassifier</label><div class=\"sk-toggleable__content\"><pre>RandomForestClassifier()</pre></div></div></div></div></div></div></div>"
     },
     "execution_count": 25,
     "metadata": {},
     "output_type": "execute_result"
    }
   ],
   "source": [
    "from sklearn.pipeline import Pipeline\n",
    "from sklearn.ensemble import RandomForestClassifier\n",
    "import numpy as np\n",
    "X = df\n",
    "y = pd.Series(np.random.choice([0,1], size=len(df)), index=df.index, name='target') # random dummy target\n",
    "\n",
    "pipe = Pipeline(\n",
    "    [('impute', imp_interp),\n",
    "    ('model', RandomForestClassifier())]\n",
    ")\n",
    "\n",
    "pipe.fit(X, y)"
   ],
   "metadata": {
    "collapsed": false,
    "ExecuteTime": {
     "end_time": "2023-11-09T15:49:42.865741700Z",
     "start_time": "2023-11-09T15:49:36.928975Z"
    }
   }
  },
  {
   "cell_type": "markdown",
   "source": [
    "Just for fun, lets check our AUROC performance:"
   ],
   "metadata": {
    "collapsed": false
   }
  },
  {
   "cell_type": "code",
   "execution_count": 26,
   "outputs": [
    {
     "data": {
      "text/plain": "0.9021860111092829"
     },
     "execution_count": 26,
     "metadata": {},
     "output_type": "execute_result"
    }
   ],
   "source": [
    "from sklearn.metrics import roc_auc_score\n",
    "y_hat = pipe.predict_proba(X)[:,1]\n",
    "roc_auc_score(y, y_hat)"
   ],
   "metadata": {
    "collapsed": false,
    "ExecuteTime": {
     "end_time": "2023-11-09T15:49:48.211193800Z",
     "start_time": "2023-11-09T15:49:47.640251200Z"
    }
   }
  },
  {
   "cell_type": "markdown",
   "source": [
    "Hopelessly overfitted ;)\n",
    "\n",
    "Anyway, hope this helps someone sometime!"
   ],
   "metadata": {
    "collapsed": false
   }
  }
 ],
 "metadata": {
  "kernelspec": {
   "display_name": "Python 3",
   "language": "python",
   "name": "python3"
  },
  "language_info": {
   "codemirror_mode": {
    "name": "ipython",
    "version": 2
   },
   "file_extension": ".py",
   "mimetype": "text/x-python",
   "name": "python",
   "nbconvert_exporter": "python",
   "pygments_lexer": "ipython2",
   "version": "2.7.6"
  }
 },
 "nbformat": 4,
 "nbformat_minor": 0
}
